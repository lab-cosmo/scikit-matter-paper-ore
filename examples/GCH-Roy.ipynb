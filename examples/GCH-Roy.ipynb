{
 "cells": [
  {
   "cell_type": "markdown",
   "id": "f749e09c-1bbb-4908-ac67-914e495ead2a",
   "metadata": {},
   "source": [
    "# Generalized Convex Hull construction for the polymorphs of ROY\n",
    "\n",
    "This notebook analyzes the structures of 264 polymorphs of ROY, from [Beran et Al, Chemical Science (2022)](https://doi.org/10.1039/D1SC06074K), comparing the conventional density-energy convex hull with a Generalized Convex Hull (GCH) analysis (see [Anelli et al., Phys. Rev. Materials (2018)](https://doi.org/10.1103/PhysRevMaterials.2.103804)."
   ]
  },
  {
   "cell_type": "code",
   "execution_count": null,
   "id": "876ceef3-7643-42ec-99c3-0d3cb8c2c106",
   "metadata": {},
   "outputs": [],
   "source": [
    "import ase.io as aseio\n",
    "import numpy as np\n",
    "from sklearn.decomposition import PCA\n",
    "from skmatter.sample_selection import DirectionalConvexHull\n",
    "from matplotlib import pyplot as plt\n",
    "import matplotlib.tri as mtri\n",
    "from mpl_toolkits.mplot3d import Axes3D\n",
    "%matplotlib widget"
   ]
  },
  {
   "cell_type": "markdown",
   "id": "1b0c7895-3a98-4ae0-8b0e-7284f7d39b36",
   "metadata": {},
   "source": [
    "Loads the structures (that also contain properties in the `info` field)"
   ]
  },
  {
   "cell_type": "code",
   "execution_count": null,
   "id": "6c9222eb-54cd-46fa-bbdb-62f3f9e57257",
   "metadata": {},
   "outputs": [],
   "source": [
    "structures = aseio.read(\"beran_cs_2022-roy.xyz\", \":\")"
   ]
  },
  {
   "cell_type": "code",
   "execution_count": null,
   "id": "f20082f6-61b0-44f0-9c94-d4efe5f797df",
   "metadata": {},
   "outputs": [],
   "source": [
    "density = np.array([ s.info['density'] for s in structures ])\n",
    "energy = np.array([ s.info['energy'] for s in structures ])\n",
    "structype = np.array([ s.info['type'] for s in structures ])\n",
    "iknown = np.where(structype==\"known\")[0]\n",
    "iothers = np.where(structype!=\"known\")[0]"
   ]
  },
  {
   "cell_type": "code",
   "execution_count": null,
   "id": "8f86c870-9b9e-4c7d-918d-8e5ff1cea942",
   "metadata": {},
   "outputs": [],
   "source": [
    "structures[0].info"
   ]
  },
  {
   "cell_type": "markdown",
   "id": "69f01b03-992d-415e-913d-7cf6b09deec6",
   "metadata": {},
   "source": [
    "## Energy-density hull\n",
    "The Directional Convex Hull routines can be used to compute a conventional density-energy hull"
   ]
  },
  {
   "cell_type": "code",
   "execution_count": null,
   "id": "0747b145-91b2-439e-94f8-dabaa77fefe5",
   "metadata": {},
   "outputs": [],
   "source": [
    "dch_builder = DirectionalConvexHull(low_dim_idx=[0])\n",
    "dch_builder.fit(density.reshape(-1,1), energy)"
   ]
  },
  {
   "cell_type": "markdown",
   "id": "a1925138-3bf7-4134-b3de-30c0a7e77453",
   "metadata": {},
   "source": [
    "We can get the indices of the selection, and compute the distance from the hull"
   ]
  },
  {
   "cell_type": "code",
   "execution_count": null,
   "id": "5195eeb8-8170-4b58-8957-1b234704c744",
   "metadata": {},
   "outputs": [],
   "source": [
    "sel = dch_builder.selected_idx_\n",
    "dch_dist = dch_builder.score_samples(density.reshape(-1,1), energy)"
   ]
  },
  {
   "cell_type": "markdown",
   "id": "fdc53f6d-f914-47c0-9836-6a272f3963d1",
   "metadata": {},
   "source": [
    "Structures on the hull are stable with respect to synthesis at constant molar volume. Any other structure would lower the energy by decomposing into a mixture of the two nearest structures along the hull. Given that the lattice energy is an imperfect proxy for the free energy, and that synthesis can be performed in other ways than by fixing the density, structures that are not exactly on the hull might also be stable. One can compute a \"hull energy\" as an indication of how close these structures are to being stable . "
   ]
  },
  {
   "cell_type": "code",
   "execution_count": null,
   "id": "a5b786b8-0040-46c5-87c4-a58d3e14d3d8",
   "metadata": {},
   "outputs": [],
   "source": [
    "plt.scatter(density,energy,c=dch_dist, marker='.')\n",
    "ssel = sel[np.argsort(density[sel])]\n",
    "plt.plot(density[ssel], energy[ssel], 'k--')"
   ]
  },
  {
   "cell_type": "code",
   "execution_count": null,
   "id": "ea1bb42f-7aca-4224-8a87-afada4a5b0c3",
   "metadata": {},
   "outputs": [],
   "source": [
    "print(f\"Mean hull energy for 'known' stable structures {dch_dist[iknown].mean()} kca/mol\")\n",
    "print(f\"Mean hull energy for 'other' structures {dch_dist[iothers].mean()} kca/mol\")"
   ]
  },
  {
   "cell_type": "markdown",
   "id": "bc30f3e4-509b-40e6-b684-722d22cd44eb",
   "metadata": {},
   "source": [
    "You can also visualize the hull with `chemiscope`"
   ]
  },
  {
   "cell_type": "code",
   "execution_count": null,
   "id": "1a9bfff8-31ed-49ad-81d0-d7530eb0b220",
   "metadata": {},
   "outputs": [],
   "source": [
    "try:\n",
    "    import chemiscope\n",
    "    cs = chemiscope.show(structures, \n",
    "                dict(energy=energy, density=density, hull_energy = dch_dist,\n",
    "                     structure_type=structype), \n",
    "                   settings={'map': {'x': {'property': 'density'},\n",
    "  'y': {'property': 'energy'},\n",
    "  'color': {'property': 'hull_energy'},\n",
    "  'symbol': 'structure_type',\n",
    "  'size': {'factor': 35}},\n",
    " 'structure': [{'unitCell': True,\n",
    "   'supercell': {'0': 2, '1': 2, '2': 2}}]} )\n",
    "    display(cs)\n",
    "except:\n",
    "    print(\"Install the `chemiscope` package to generate an interactive visualization of the hull\")"
   ]
  },
  {
   "cell_type": "markdown",
   "id": "f52b17b0-bd82-41cd-a555-7ad91441b962",
   "metadata": {},
   "source": [
    "## Generalized Convex Hull\n",
    "\n",
    "A GCH is a similar construction, in which generic structural descriptors are used in lieu of composition, density or other thermodynamic constraints. The idea is that configurations that are found close to the GCH are locally stable with respect to structurally-similar configurations. \n",
    "In other terms, one can hope to find a thermodynamic constraint (i.e. synthesis conditions) that act differently on these structures in comparison with the others, and may potentially stabilize them. "
   ]
  },
  {
   "cell_type": "markdown",
   "id": "93c678ee-b2dd-4c35-a00a-1a93da1d61c3",
   "metadata": {},
   "source": [
    "A first stept is to computes suitable ML descriptors. Here we use `rascaline`, if available, to evaluate average SOAP features for the structures"
   ]
  },
  {
   "cell_type": "code",
   "execution_count": null,
   "id": "7f2cc3c9-a903-455c-ac4f-1f113302a22f",
   "metadata": {},
   "outputs": [],
   "source": [
    "try: \n",
    "    from rascaline import SoapPowerSpectrum\n",
    "    from equistore import mean_over_samples\n",
    "    hypers = {\n",
    "        \"cutoff\": 4,\n",
    "        \"max_radial\": 6,\n",
    "        \"max_angular\": 4,    \n",
    "        \"atomic_gaussian_width\": 0.7,\n",
    "        \"cutoff_function\": {\"ShiftedCosine\": {\"width\": 0.5}},\n",
    "        \"radial_basis\": {\"Gto\": {\"accuracy\": 1e-6}},\n",
    "        \"center_atom_weight\": 1.0 \n",
    "    }\n",
    "    calculator = SoapPowerSpectrum(**hypers)\n",
    "    rho2i = calculator.compute(structures)\n",
    "    rho2i=rho2i.keys_to_samples(['species_center']).keys_to_properties(['species_neighbor_1', 'species_neighbor_2'])\n",
    "    rho2i_structure = mean_over_samples(rho2i, sample_names=[\"center\", \"species_center\"])\n",
    "    np.savez(\"roy_features.npz\", feats=rho2i_structure.block(0).values)\n",
    "except:\n",
    "    raise(\"Install `rascaline` and `equistore` if you want to compute features.\")"
   ]
  },
  {
   "cell_type": "markdown",
   "id": "a0f7405d-33bf-4d9c-9b38-7a965352f215",
   "metadata": {},
   "source": [
    "... otherwise just loads pre-computed SOAP features."
   ]
  },
  {
   "cell_type": "code",
   "execution_count": null,
   "id": "37136bb1-2615-4ca6-a3bb-3890ba5df0ca",
   "metadata": {},
   "outputs": [],
   "source": [
    "features = np.load(\"roy_features.npz\")['feats']"
   ]
  },
  {
   "cell_type": "markdown",
   "id": "889fee2e-4e43-4e3a-a403-8ba450df41f7",
   "metadata": {},
   "source": [
    "Computes PCA projection (one could try any other dimensionality reduction scheme)"
   ]
  },
  {
   "cell_type": "code",
   "execution_count": null,
   "id": "3343b33f-6b51-4a07-b1ad-59528fb19777",
   "metadata": {},
   "outputs": [],
   "source": [
    "pca = PCA(n_components=4)\n",
    "pca_features = pca.fit_transform(features)"
   ]
  },
  {
   "cell_type": "code",
   "execution_count": null,
   "id": "a4a555e2-a290-4794-93b4-f47191cb0256",
   "metadata": {},
   "outputs": [],
   "source": [
    "plt.scatter(pca_features[:,0], pca_features[:,1], c=energy)"
   ]
  },
  {
   "cell_type": "markdown",
   "id": "9f5ba0f7-b1e7-453e-8d37-7977f9030786",
   "metadata": {},
   "source": [
    "Builds convex hull on first two PCA features"
   ]
  },
  {
   "cell_type": "code",
   "execution_count": null,
   "id": "c82ba430-7b9f-4470-af9c-2863b52d3ea4",
   "metadata": {},
   "outputs": [],
   "source": [
    "dch_builder = DirectionalConvexHull(low_dim_idx=[0,1])\n",
    "dch_builder.fit(pca_features, energy)\n",
    "sel = dch_builder.selected_idx_\n",
    "dch_dist = dch_builder.score_samples(pca_features, energy)"
   ]
  },
  {
   "cell_type": "markdown",
   "id": "c7fe9f92-b065-421a-9c08-9af583bc1433",
   "metadata": {},
   "source": [
    "3D Plot"
   ]
  },
  {
   "cell_type": "code",
   "execution_count": null,
   "id": "8352e3fb-8636-4a3b-b70d-aa81fd49589a",
   "metadata": {},
   "outputs": [],
   "source": [
    "triang = mtri.Triangulation(pca_features[sel,0], pca_features[sel,1])\n",
    "fig = plt.figure()\n",
    "ax = fig.add_subplot(projection='3d')\n",
    "ax.plot_trisurf(triang, energy[sel], color='gray')\n",
    "ax.scatter(pca_features[:,0], pca_features[:,1], energy, c=dch_dist)\n",
    "ax.set_xlabel(\"PCA[1]\")\n",
    "ax.set_ylabel(\"PCA[2]\")\n",
    "ax.set_zlabel(\"energy / kcal/mol\")"
   ]
  },
  {
   "cell_type": "markdown",
   "id": "a181efd6-99f1-4f11-b0c8-27c53e499377",
   "metadata": {},
   "source": [
    "The GCH construction improves the separation between the hull energies of \"known\" and hypothetical polymorphs (compare with the density-energy values above)"
   ]
  },
  {
   "cell_type": "code",
   "execution_count": null,
   "id": "43ccde01-8a10-44c8-a2d1-0a7c492a358e",
   "metadata": {},
   "outputs": [],
   "source": [
    "print(f\"Mean hull energy for 'known' stable structures {dch_dist[iknown].mean()} kca/mol\")\n",
    "print(f\"Mean hull energy for 'other' structures {dch_dist[iothers].mean()} kca/mol\")"
   ]
  },
  {
   "cell_type": "code",
   "execution_count": null,
   "id": "0e3d0180-276b-4674-8e0e-0b152f6dc342",
   "metadata": {},
   "outputs": [],
   "source": [
    "# adds PCA features to info fields \n",
    "for i, f in enumerate(structures):\n",
    "    for j in range(len(pca_features[i])):\n",
    "        f.info['pca_'+str(j+1)] = pca_features[i,j]"
   ]
  },
  {
   "cell_type": "markdown",
   "id": "42f6b440-5614-470e-b94a-c1ff60335dff",
   "metadata": {},
   "source": [
    "Visualize in `chemiscope`, if available. "
   ]
  },
  {
   "cell_type": "code",
   "execution_count": null,
   "id": "b2ee0097-3dd4-4a0a-9422-36fce68fa42a",
   "metadata": {},
   "outputs": [],
   "source": [
    "try:\n",
    "    import chemiscope\n",
    "    structure_properties=chemiscope.extract_properties(structures)\n",
    "    structure_properties.update({\"per_atom_energy\":energy, \"hull_energy\":dch_dist})\n",
    "    cs = chemiscope.show(frames=structures, \n",
    "                     properties=structure_properties, \n",
    "                     settings={'map': {'x': {'property': 'pca_1'},\n",
    "  'y': {'property': 'pca_2'},\n",
    "  'z': {'property' : 'energy'},\n",
    "  'symbol': 'type', 'symbol': 'type', 'color' : {'property': 'hull_energy'}, \n",
    "  'size': {'factor': 35, 'mode': 'linear', 'property': '', 'reverse': True} ,\n",
    "},\n",
    " 'structure': [{'bonds': True,\n",
    "   'unitCell': True,\n",
    "   'keepOrientation': True,\n",
    "   }]})\n",
    "    display(cs)\n",
    "except:\n",
    "    print(\"Install the `chemiscope` package to generate an interactive visualization of the hull\")"
   ]
  }
 ],
 "metadata": {
  "kernelspec": {
   "display_name": "Python 3",
   "language": "python",
   "name": "python3"
  },
  "language_info": {
   "codemirror_mode": {
    "name": "ipython",
    "version": 3
   },
   "file_extension": ".py",
   "mimetype": "text/x-python",
   "name": "python",
   "nbconvert_exporter": "python",
   "pygments_lexer": "ipython3",
   "version": "3.8.10"
  }
 },
 "nbformat": 4,
 "nbformat_minor": 5
}
